{
 "cells": [
  {
   "cell_type": "markdown",
   "metadata": {},
   "source": [
    "# Case inhouseday KPMG \n",
    "\n",
    "As stated in the case description радуга (Raduga Inc.) wants to know how much colors it has to make for the world cup 2018. Part of this big project is a simulation of the upcomming tournament. They want to have a statistical substantiated estimation. The simulation part of the project is given to the Business Analytics and the Advanced Analytics & Big Data teams of KPMG. Your mission is to write this simulation. \n",
    "\n",
    "The Data Management team has some data available for you. If you want a clean dataset you need to hire them (in exchange for points). You may use any other data source you might think is useful for your prediction and simulation. \n",
    "\n",
    "## High over suggested code setup and points distribution\n",
    "You may build up your code in any way you want. The core coding language used at KPMG is python, but for this 'simple' simulation you may use any language you are comfortable with. All tips and tricks will how ever be provided in python.\n",
    "### Exploration (15k)\n",
    "* Look into the data what elements does it have (3k)\n",
    "* what are the relevant variables for the simulation (5k)\n",
    "* Can you find a function to describe the data? (7k)\n",
    "\n",
    "### Data cleaning (25k)\n",
    "* You can choose to hire an external party to clean up your data. (25k)\n",
    "\n",
    "### Simulation (75k)\n",
    "**Tip:**\n",
    "Build up your code in a way that you can simulate chunks of the bigger simulation.\n",
    "For example:\n",
    "\n",
    "#### knock out phase (25k)\n",
    "* single match with 50/50 chance for knock-outphase (7k)\n",
    "* single round of the knock-out phase (6k)\n",
    "    * make random pairs to match them up (lottery like) (5k)\n",
    "* complete knock-out phase (7k)\n",
    "\n",
    "#### group phase (25k)\n",
    "* single match with 50/50 chance for group phase (5k)\n",
    "* a way to keep track of the scores in the group phase (5k)\n",
    "* make a round of the group phase (5k)\n",
    "* complete simulation of the group phase (5k)\n",
    "* how to extract the winner and follow-up in the group phase (5k)\n",
    "\n",
    "#### weighting factor and final results (25k) \n",
    "* introduce a weighting factor between the teams from external data (historical), for a suggestion see below (10)\n",
    "* combine groupphase and knockout to a complete tournament (7k)\n",
    "* make a way to keep track of tournament results (8k)\n",
    "\n",
    "### Color distribution based on simulation results (10k) \n",
    "* develop a method to determine the color distribution needed (10k)\n",
    "\n",
    "### Simulation results (100k) \n",
    "* In case you get completely stuck, we offer you the possibility to buy our simulation result. This is considered a last resort in case you get completely stuck and will provide you the possibility to focus entirely on the other issues this client faces. It is however a very poor way to handle your resources.(100k)\n",
    "\n",
    "#### Weighting factor\n",
    "A suggestion for the weighting factor is down below. If you have improvements or other suggestions feel free to implement them. \n",
    "\n",
    "This can give bonus scores!\n",
    "If $rank_A > rank_B$ then:\n",
    "\n",
    "$P(A_{wins}) = \\frac{1}{\\sqrt{\\log_2(\\mid rank_B-rank_A\\mid+1)}}$\n",
    "\n",
    "else:\n",
    "\n",
    "$P(A_{wins}) = 1 - \\frac{1}{\\sqrt{\\log_2(\\mid rank_B-rank_A\\mid+1)}}$\n"
   ]
  },
  {
   "cell_type": "markdown",
   "metadata": {},
   "source": [
    "## Import of all usefull packages"
   ]
  },
  {
   "cell_type": "code",
   "execution_count": 1,
   "metadata": {
    "collapsed": true
   },
   "outputs": [],
   "source": [
    "# =====================================================================================\n",
    "# DO ALL YOUR DATA PREPARATION AND ANALYSIS in this file\n",
    "# =====================================================================================\n",
    "import pandas as pd\n",
    "import numpy as np\n",
    "import matplotlib.pyplot as plt\n",
    "import matplotlib.pyplot as plt2\n",
    "import random\n",
    "import itertools\n",
    "from scipy.optimize import curve_fit\n",
    "from scipy.misc import factorial\n",
    "import os\n",
    "import pylab as pylab\n",
    "%matplotlib inline\n",
    "\n",
    "# set the right enviroment variable to the data\n",
    "filepath = os.chdir('//nl/kpmg/ADV/Technology/Data & Analytics/D&A - Data & Analytics/Inhousedag 2/Data')\n",
    "\n",
    "# ___________________________________________________________________________\n",
    "# load in the data files to a pandas dataframe\n",
    "fifa_ranking = pd.read_csv('Fifa_ranking.csv', sep=';')\n",
    "games = pd.read_csv('matches.csv', sep=';')\n",
    "participants = pd.read_csv('Participating_Countries.csv', sep=';')"
   ]
  },
  {
   "cell_type": "markdown",
   "metadata": {},
   "source": [
    "# Data exploration"
   ]
  },
  {
   "cell_type": "code",
   "execution_count": null,
   "metadata": {
    "collapsed": true
   },
   "outputs": [],
   "source": []
  },
  {
   "cell_type": "markdown",
   "metadata": {},
   "source": [
    "# Now make the functions needed to do the simulation\n",
    "\n"
   ]
  },
  {
   "cell_type": "code",
   "execution_count": null,
   "metadata": {
    "collapsed": true
   },
   "outputs": [],
   "source": []
  },
  {
   "cell_type": "markdown",
   "metadata": {},
   "source": [
    "# Now run all the code for the simulation"
   ]
  },
  {
   "cell_type": "code",
   "execution_count": null,
   "metadata": {
    "collapsed": true
   },
   "outputs": [],
   "source": []
  }
 ],
 "metadata": {
  "kernelspec": {
   "display_name": "Python 3",
   "language": "python",
   "name": "python3"
  },
  "language_info": {
   "codemirror_mode": {
    "name": "ipython",
    "version": 3
   },
   "file_extension": ".py",
   "mimetype": "text/x-python",
   "name": "python",
   "nbconvert_exporter": "python",
   "pygments_lexer": "ipython3",
   "version": "3.6.3"
  }
 },
 "nbformat": 4,
 "nbformat_minor": 2
}
